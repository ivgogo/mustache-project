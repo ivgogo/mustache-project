{
 "cells": [
  {
   "cell_type": "code",
   "execution_count": 416,
   "metadata": {},
   "outputs": [],
   "source": [
    "%matplotlib qt\n",
    "\n",
    "import matplotlib.pyplot as plt\n",
    "import scipy.optimize as opt\n",
    "import pandas as pd \n",
    "import numpy as np \n",
    "import cv2"
   ]
  },
  {
   "cell_type": "code",
   "execution_count": 417,
   "metadata": {},
   "outputs": [],
   "source": [
    "# paths\n",
    "df_false_positives = pd.read_csv(\"/media/ivan/Ivan/data_20_2_24/data_false_positives_production_day_first_condition.csv\")\n",
    "df_small_red = pd.read_csv(\"/media/ivan/Ivan/data_20_2_24/data_small_red.csv\")\n",
    "df_big_red_meat = pd.read_csv(\"/media/ivan/Ivan/data_20_2_24/data_big_red_on_meat.csv\")\n",
    "df_big_red_fat = pd.read_csv(\"/media/ivan/Ivan/data_20_2_24/data_big_red_on_fat.csv\")\n",
    "\n",
    "# take out first column (positions)\n",
    "df_false_positives = df_false_positives.drop(df_false_positives.columns[0], axis='columns')  \n",
    "df_small_red = df_small_red.drop(df_small_red.columns[0], axis='columns')\n",
    "df_big_red_meat = df_big_red_meat.drop(df_big_red_meat.columns[0], axis='columns')\n",
    "df_big_red_fat = df_big_red_fat.drop(df_big_red_fat.columns[0], axis='columns') "
   ]
  },
  {
   "cell_type": "code",
   "execution_count": 418,
   "metadata": {},
   "outputs": [
    {
     "name": "stdout",
     "output_type": "stream",
     "text": [
      "============ Data ============\n",
      "False positives: (9622, 184)\n",
      "Small red: (7820, 184)\n",
      "Big red on meat: (66798, 184)\n",
      "Big red on fat: (59152, 184)\n"
     ]
    }
   ],
   "source": [
    "# shapes/sizes of data\n",
    "print(\"============ Data ============\")\n",
    "print(f'False positives: {df_false_positives.shape}')\n",
    "print(f'Small red: {df_small_red.shape}')\n",
    "print(f'Big red on meat: {df_big_red_meat.shape}')\n",
    "print(f'Big red on fat: {df_big_red_fat.shape}')"
   ]
  },
  {
   "cell_type": "code",
   "execution_count": 419,
   "metadata": {},
   "outputs": [],
   "source": [
    "# We take points/spectral bands of our interest\n",
    "df_false_positives_m = df_false_positives.iloc[:, [25,80,154]]\n",
    "df_small_red_m = df_small_red.iloc[:, [25,80,154]]\n",
    "df_big_red_meat_m = df_big_red_meat.iloc[:, [25,80,154]]\n",
    "df_big_red_fat_m = df_big_red_fat.iloc[:, [25,80,154]]\n",
    "\n",
    "# into numpy arrays (only points of interest)\n",
    "false_positives = np.array(df_false_positives_m)\n",
    "small_red = np.array(df_small_red_m)\n",
    "big_red_meat = np.array(df_big_red_meat_m)\n",
    "big_red_fat = np.array(df_big_red_fat_m)"
   ]
  },
  {
   "cell_type": "code",
   "execution_count": 420,
   "metadata": {},
   "outputs": [],
   "source": [
    "def f(x, data_array):\n",
    "    \n",
    "    # Number of samples (data)\n",
    "    m = len(data_array)\n",
    "    \n",
    "    for i in range(len(data_array)):\n",
    "        \n",
    "        # Values of each point at each iteration\n",
    "        value25, value80, value154 = data_array[i]\n",
    "\n",
    "        # Operation \n",
    "        calc = (1/2*m)*(pow((value154*x[0]-value25),2)+pow((value154*x[1]-value80),2))\n",
    "\n",
    "        return calc"
   ]
  },
  {
   "cell_type": "code",
   "execution_count": 421,
   "metadata": {},
   "outputs": [],
   "source": [
    "# FIXME More than 2 point\n",
    "        #     print(data_array[i][data_array.shape[1]])\n",
    "\n",
    "        # total = 0\n",
    "        # value154 = data_array[i][data_array.shape[1]]\n",
    "        # for j in range(data_array.shape[1]):\n",
    "        #     total = total + pow((value154*x[0]-data_array[j]),2)\n",
    "\n",
    "\n",
    "# XXX Points\n",
    "# df_false_positives_m = df_false_positives.iloc[:, 0:25].join(df_false_positives.iloc[:, [79,153]])\n",
    "# df_small_red_m = df_small_red.iloc[:, 0:25].join(df_small_red.iloc[:, [79,153]])"
   ]
  },
  {
   "cell_type": "code",
   "execution_count": 422,
   "metadata": {},
   "outputs": [
    {
     "name": "stdout",
     "output_type": "stream",
     "text": [
      "Optimization terminated successfully.\n",
      "         Current function value: 0.000000\n",
      "         Iterations: 2\n",
      "         Function evaluations: 15\n",
      "         Gradient evaluations: 5\n",
      "[4.14753658 3.09279443]\n"
     ]
    }
   ],
   "source": [
    "# Optimization using gradient descent\n",
    "start = np.array([0, 0])    # starting point\n",
    "\n",
    "# https://docs.scipy.org/doc/scipy/reference/generated/scipy.optimize.fmin_cg.html\n",
    "result_g = opt.fmin_cg(f, start, args=(small_red,))\n",
    "print(result_g)"
   ]
  },
  {
   "cell_type": "code",
   "execution_count": 508,
   "metadata": {},
   "outputs": [
    {
     "name": "stdout",
     "output_type": "stream",
     "text": [
      "Not working on: 2960 samples (false positive samples)\n"
     ]
    }
   ],
   "source": [
    "# Check if it works\n",
    "y1, y2 = result_g\n",
    "samples = small_red.shape[0]\n",
    "count = 0\n",
    "\n",
    "for i in range(samples):\n",
    "    value25, value80, value154 = small_red[i]\n",
    "    test = (1/4)*(pow((value154*y1-value25), 2) + pow(value154*y2-value80, 2))  # 4 --> 2*m(m=number of points used)\n",
    "    # print(test)\n",
    "    if test < 0.001:\n",
    "        count += 1\n",
    "\n",
    "print(f'Not working on: {count} samples (false positive samples)')"
   ]
  },
  {
   "cell_type": "markdown",
   "metadata": {},
   "source": [
    "# PLOTTING "
   ]
  },
  {
   "cell_type": "code",
   "execution_count": 424,
   "metadata": {},
   "outputs": [],
   "source": [
    "# Entire spectrum into numpy arrays\n",
    "false_positives_e = np.array(df_false_positives)\n",
    "small_red_e = np.array(df_small_red)\n",
    "big_red_meat_e = np.array(df_big_red_meat)\n",
    "big_red_fat_e = np.array(df_big_red_fat)"
   ]
  },
  {
   "cell_type": "markdown",
   "metadata": {},
   "source": [
    "Plot entire spectrum"
   ]
  },
  {
   "cell_type": "code",
   "execution_count": 425,
   "metadata": {},
   "outputs": [],
   "source": [
    "# # for larger datasets --> taking 10k random samples\n",
    "# random_big_red_meat = np.array(df_big_red_meat.sample(n=10000))\n",
    "# random_big_red_fat = np.array(df_big_red_fat.sample(n=10000))\n",
    "\n",
    "# for _, sample_signal in enumerate(small_red_e):\n",
    "#     plt.plot(sample_signal)\n",
    "\n",
    "# plt.title('Big red on fat (10k random samples)')\n",
    "# plt.xlabel('x')\n",
    "# plt.ylabel('y')\n",
    "# plt.legend()\n",
    "# plt.show()"
   ]
  },
  {
   "cell_type": "markdown",
   "metadata": {},
   "source": [
    "Plot comparison small red - false positive"
   ]
  },
  {
   "cell_type": "code",
   "execution_count": 463,
   "metadata": {},
   "outputs": [],
   "source": [
    "random_sample_small_red = df_small_red.sample(n=1)\n",
    "s1 = random_sample_small_red.values.tolist()[0] \n",
    "\n",
    "random_sample_fp = df_false_positives.sample(n=1)\n",
    "s2 = random_sample_fp.values.tolist()[0] \n",
    "\n",
    "# plot\n",
    "plt.clf()\n",
    "plt.plot(s1, label='Small red', color='red')\n",
    "plt.plot(s2, label='False positive', color='blue')\n",
    "\n",
    "# Points values\n",
    "plt.text(25, s1[25]+0.015, f'Point 25: {s1[25]}', fontsize=10, color='red')\n",
    "plt.text(80, s1[80]+0.015, f'Point 80: {s1[80]}', fontsize=10, color='red')\n",
    "plt.text(154, s1[154]+0.015, f'Point 154: {s1[154]}', fontsize=10, color='red')\n",
    "plt.text(25, s2[25]-0.015, f'Point 25: {s2[25]}', fontsize=10, color='blue')\n",
    "plt.text(80, s2[80]-0.015, f'Point 80: {s2[80]}', fontsize=10, color='blue')\n",
    "plt.text(154, s2[154]-0.015, f'Point 154: {s2[154]}', fontsize=10, color='blue')\n",
    "\n",
    "plt.title('Comparison small red - false positive')\n",
    "plt.xlabel('Index')\n",
    "plt.ylabel('Value')\n",
    "plt.legend()\n",
    "plt.show()"
   ]
  },
  {
   "cell_type": "markdown",
   "metadata": {},
   "source": [
    "Plot comparison small red - false positive --> NORMALIZED"
   ]
  },
  {
   "cell_type": "code",
   "execution_count": 507,
   "metadata": {},
   "outputs": [],
   "source": [
    "random_sample_small_red = df_small_red.sample(n=1)\n",
    "s1 = random_sample_small_red.values.tolist()[0] \n",
    "\n",
    "random_sample_fp = df_false_positives.sample(n=1)\n",
    "s2 = random_sample_fp.values.tolist()[0] \n",
    "\n",
    "# Normalization using max\n",
    "# max_s1 = max(s1)\n",
    "# max_s2 = max(s2)\n",
    "\n",
    "# Normalization using value 154\n",
    "max_s1 = s1[154]\n",
    "max_s2 = s2[154]\n",
    "s1_normalized = [(x / max_s1) for x in s1]\n",
    "s2_normalized = [(x / max_s2) for x in s2]\n",
    "# s1_normalized = [(x-min(s1) / max_s1-min(s1)) for x in s1]\n",
    "# s2_normalized = [(x-min(s2) / max_s2-min(s2)) for x in s2]\n",
    "\n",
    "# plot\n",
    "plt.clf()\n",
    "plt.plot(s1_normalized, label='Small red', color='red')\n",
    "plt.plot(s2_normalized, label='False positive', color='blue')\n",
    "\n",
    "# Points values\n",
    "plt.text(25, s1[25]+0.25, f'Point 25: {s1[25]}', fontsize=10, color='red')\n",
    "plt.text(80, s1[80]+0.25, f'Point 80: {s1[80]}', fontsize=10, color='red')\n",
    "plt.text(154, s1[154]+0.25, f'Point 154: {s1[154]}', fontsize=10, color='red')\n",
    "plt.text(25, s2[25]-0.25, f'Point 25: {s2[25]}', fontsize=10, color='blue')\n",
    "plt.text(80, s2[80]-0.25, f'Point 80: {s2[80]}', fontsize=10, color='blue')\n",
    "plt.text(154, s2[154]-0.25, f'Point 154: {s2[154]}', fontsize=10, color='blue')\n",
    "\n",
    "plt.title('Comparison small red - false positive (NORMALIZED)')\n",
    "plt.xlabel('Index')\n",
    "plt.ylabel('Normalized Value')\n",
    "plt.legend()\n",
    "plt.show()"
   ]
  }
 ],
 "metadata": {
  "kernelspec": {
   "display_name": "Python 3",
   "language": "python",
   "name": "python3"
  },
  "language_info": {
   "codemirror_mode": {
    "name": "ipython",
    "version": 3
   },
   "file_extension": ".py",
   "mimetype": "text/x-python",
   "name": "python",
   "nbconvert_exporter": "python",
   "pygments_lexer": "ipython3",
   "version": "3.10.12"
  }
 },
 "nbformat": 4,
 "nbformat_minor": 2
}
