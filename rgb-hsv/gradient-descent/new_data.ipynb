{
 "cells": [
  {
   "cell_type": "code",
   "execution_count": 17,
   "metadata": {},
   "outputs": [],
   "source": [
    "%matplotlib qt\n",
    "\n",
    "import matplotlib.pyplot as plt\n",
    "import scipy.optimize as opt\n",
    "import pandas as pd \n",
    "import numpy as np \n",
    "import cv2"
   ]
  },
  {
   "cell_type": "code",
   "execution_count": 18,
   "metadata": {},
   "outputs": [],
   "source": [
    "# paths\n",
    "df_false_positives = pd.read_csv(\"/media/ivan/Ivan/data_20_2_24/data_false_positives_production_day_first_condition.csv\")\n",
    "df_small_red = pd.read_csv(\"/media/ivan/Ivan/data_20_2_24/data_small_red.csv\")\n",
    "df_big_red_meat = pd.read_csv(\"/media/ivan/Ivan/data_20_2_24/data_big_red_on_meat.csv\")\n",
    "df_big_red_fat = pd.read_csv(\"/media/ivan/Ivan/data_20_2_24/data_big_red_on_fat.csv\")\n",
    "\n",
    "# take out first column (positions)\n",
    "df_false_positives = df_false_positives.drop(df_false_positives.columns[0], axis='columns')  \n",
    "df_small_red = df_small_red.drop(df_small_red.columns[0], axis='columns')\n",
    "df_big_red_meat = df_big_red_meat.drop(df_big_red_meat.columns[0], axis='columns')\n",
    "df_big_red_fat = df_big_red_fat.drop(df_big_red_fat.columns[0], axis='columns') "
   ]
  },
  {
   "cell_type": "code",
   "execution_count": 19,
   "metadata": {},
   "outputs": [
    {
     "name": "stdout",
     "output_type": "stream",
     "text": [
      "============ Data ============\n",
      "False positives: (9622, 184)\n",
      "Small red: (7820, 184)\n",
      "Big red on meat: (66798, 184)\n",
      "Big red on fat: (59152, 184)\n"
     ]
    }
   ],
   "source": [
    "# shapes/sizes of data\n",
    "print(\"============ Data ============\")\n",
    "print(f'False positives: {df_false_positives.shape}')\n",
    "print(f'Small red: {df_small_red.shape}')\n",
    "print(f'Big red on meat: {df_big_red_meat.shape}')\n",
    "print(f'Big red on fat: {df_big_red_fat.shape}')"
   ]
  },
  {
   "cell_type": "code",
   "execution_count": 20,
   "metadata": {},
   "outputs": [],
   "source": [
    "# We take points/spectral bands of our interest\n",
    "df_false_positives_m = df_false_positives.iloc[:, [24,79,153]]\n",
    "df_small_red_m = df_small_red.iloc[:, [24,79,153]]\n",
    "df_big_red_meat_m = df_big_red_meat.iloc[:, [24,79,153]]\n",
    "df_big_red_fat_m = df_big_red_fat.iloc[:, [24,79,153]]\n",
    "\n",
    "# df_false_positives_m = df_false_positives.iloc[:, 0:25].join(df_false_positives.iloc[:, [79,153]])\n",
    "# df_small_red_m = df_small_red.iloc[:, 0:25].join(df_small_red.iloc[:, [79,153]])\n",
    "\n",
    "# into numpy arrays (only points of interest)\n",
    "false_positives = np.array(df_false_positives_m)\n",
    "small_red = np.array(df_small_red_m)\n",
    "big_red_meat = np.array(df_big_red_meat_m)\n",
    "big_red_fat = np.array(df_big_red_fat_m)"
   ]
  },
  {
   "cell_type": "code",
   "execution_count": 21,
   "metadata": {},
   "outputs": [],
   "source": [
    "def f(x, data_array):\n",
    "    \n",
    "    # Number of samples (data)\n",
    "    m = len(data_array)\n",
    "    \n",
    "    for i in range(len(data_array)):\n",
    "        \n",
    "        # Values of each point at each iteration\n",
    "        value25, value80, value154 = data_array[i]\n",
    "    \n",
    "        # Operation \n",
    "        calc = (1/2*m)*(pow((value154*x[0]-value25),2)+pow((value154*x[1]-value80),2))\n",
    "\n",
    "        return calc"
   ]
  },
  {
   "cell_type": "code",
   "execution_count": 22,
   "metadata": {},
   "outputs": [
    {
     "name": "stdout",
     "output_type": "stream",
     "text": [
      "Optimization terminated successfully.\n",
      "         Current function value: 0.000000\n",
      "         Iterations: 2\n",
      "         Function evaluations: 15\n",
      "         Gradient evaluations: 5\n",
      "[4.15137437 3.10282845]\n"
     ]
    }
   ],
   "source": [
    "start = np.array([0, 0])\n",
    "\n",
    "# https://docs.scipy.org/doc/scipy/reference/generated/scipy.optimize.fmin_cg.html\n",
    "result_g = opt.fmin_cg(f, start, args=(small_red,))\n",
    "print(result_g)"
   ]
  },
  {
   "cell_type": "code",
   "execution_count": 23,
   "metadata": {},
   "outputs": [],
   "source": [
    "# # Entire spectrum into numpy arrays\n",
    "# false_positives_e = np.array(df_false_positives)\n",
    "# small_red_e = np.array(df_small_red)\n",
    "# big_red_meat_e = np.array(df_big_red_meat)\n",
    "# big_red_fat_e = np.array(df_big_red_fat)\n",
    "\n",
    "# # for larger datasets --> taking 10k random samples\n",
    "# random_big_red_meat = np.array(df_big_red_meat.sample(n=10000))\n",
    "# random_big_red_fat = np.array(df_big_red_fat.sample(n=10000))\n",
    "\n",
    "# for _, sample_signal in enumerate(random_big_red_fat):\n",
    "#     plt.plot(sample_signal)\n",
    "\n",
    "# plt.title('Big red on fat (10k random samples)')\n",
    "# plt.xlabel('x')\n",
    "# plt.ylabel('y')\n",
    "# plt.legend()\n",
    "# plt.show()"
   ]
  },
  {
   "cell_type": "code",
   "execution_count": 24,
   "metadata": {},
   "outputs": [
    {
     "name": "stdout",
     "output_type": "stream",
     "text": [
      "1886\n"
     ]
    }
   ],
   "source": [
    "# Check if it works\n",
    "y1, y2 = result_g\n",
    "samples = false_positives.shape[0]\n",
    "count = 0\n",
    "\n",
    "for i in range(samples):\n",
    "    value25, value80, value154 = false_positives[i]\n",
    "    test = (1/4)*(pow((value154*y1-value25), 2) + pow(value154*y2-value80, 2))\n",
    "    # print(test)\n",
    "    if test < 0.001:\n",
    "        count += 1\n",
    "\n",
    "print(count)"
   ]
  }
 ],
 "metadata": {
  "kernelspec": {
   "display_name": "Python 3",
   "language": "python",
   "name": "python3"
  },
  "language_info": {
   "codemirror_mode": {
    "name": "ipython",
    "version": 3
   },
   "file_extension": ".py",
   "mimetype": "text/x-python",
   "name": "python",
   "nbconvert_exporter": "python",
   "pygments_lexer": "ipython3",
   "version": "3.10.12"
  }
 },
 "nbformat": 4,
 "nbformat_minor": 2
}
