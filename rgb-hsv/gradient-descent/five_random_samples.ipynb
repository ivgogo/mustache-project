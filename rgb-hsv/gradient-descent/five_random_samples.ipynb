{
 "cells": [
  {
   "cell_type": "code",
   "execution_count": 164,
   "metadata": {},
   "outputs": [],
   "source": [
    "%matplotlib qt\n",
    "\n",
    "import matplotlib.pyplot as plt\n",
    "import pandas as pd\n",
    "import numpy as np\n",
    "\n",
    "# hayat data\n",
    "# data_path = \"/media/ivan/Ivan/ivan_parquet_and_csv_data/csv_test/conveyor_belt_part1_03_data.csv\"\n",
    "# data_path = \"/media/ivan/Ivan/ivan_parquet_and_csv_data/csv_test/pork_part1_04_data.csv\"\n",
    "# data_path = \"/media/ivan/Ivan/ivan_parquet_and_csv_data/csv_test/pork_part2_05_data.csv\"\n",
    "# data_path = \"/media/ivan/Ivan/ivan_parquet_and_csv_data/csv_test/pork_part6_05_data.csv\"\n",
    "# data_path = \"/media/ivan/Ivan/ivan_parquet_and_csv_data/csv_test/red_big_part1_13_data.csv\"\n",
    "# data_path = \"/media/ivan/Ivan/ivan_parquet_and_csv_data/csv_test/red_small_on_fat_part2_09_data.csv\"\n",
    "\n",
    "# gabi new data\n",
    "# data_path = \"/media/ivan/Ivan/data_20_2_24/data_big_red_on_fat.csv\"\n",
    "# data_path = \"/media/ivan/Ivan/data_20_2_24/data_big_red_on_meat.csv\"\n",
    "data_path = \"/media/ivan/Ivan/data_20_2_24/data_false_positives_production_day_first_condition.csv\"\n",
    "# data_path = \"/media/ivan/Ivan/data_20_2_24/data_small_red.csv\"\n",
    "\n",
    "df = pd.read_csv(data_path, index_col=0, header=None)\n",
    "df = df.drop(df.columns[0], axis='columns') \n",
    "selected_columns = 184\n",
    "df = df.iloc[:, 0:selected_columns]"
   ]
  },
  {
   "cell_type": "code",
   "execution_count": 169,
   "metadata": {},
   "outputs": [],
   "source": [
    "# take 5 random samples\n",
    "number_of_samples_to_take=10\n",
    "random_samples = df.sample(number_of_samples_to_take)\n",
    "data_array = np.array(random_samples)\n",
    "\n",
    "plt.clf()\n",
    "for i, sample_signal in enumerate(data_array):\n",
    "    plt.plot(sample_signal, label=f'Sample n.{i+1}')\n",
    "\n",
    "plt.title(f'{number_of_samples_to_take} Random Samples of False Positives')\n",
    "plt.xlabel('x')\n",
    "plt.ylabel('y')\n",
    "plt.legend()\n",
    "plt.show()"
   ]
  }
 ],
 "metadata": {
  "kernelspec": {
   "display_name": "Python 3",
   "language": "python",
   "name": "python3"
  },
  "language_info": {
   "codemirror_mode": {
    "name": "ipython",
    "version": 3
   },
   "file_extension": ".py",
   "mimetype": "text/x-python",
   "name": "python",
   "nbconvert_exporter": "python",
   "pygments_lexer": "ipython3",
   "version": "3.10.12"
  }
 },
 "nbformat": 4,
 "nbformat_minor": 2
}
