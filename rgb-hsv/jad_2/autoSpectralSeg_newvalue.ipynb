{
 "cells": [
  {
   "cell_type": "code",
   "execution_count": 1,
   "metadata": {},
   "outputs": [],
   "source": [
    "%matplotlib qt\n",
    "\n",
    "import numpy as np\n",
    "import hyperspy.api as hs\n",
    "import matplotlib.pyplot as plt\n",
    "import cv2\n",
    "\n",
    "from matplotlib import colors"
   ]
  },
  {
   "cell_type": "code",
   "execution_count": 2,
   "metadata": {},
   "outputs": [],
   "source": [
    "# Add '.tiff' file directory here\n",
    "# data_file_dir = \"/media/ivan/Ivan/jad_spectral_2/src_Specim-FX17e-076900055547_02.tiff\"\n",
    "\n",
    "# \n",
    "data_file_dir = \"/media/ivan/Ivan/jad_spectral_3/src_Specim-FX17e-076900055547_43.tiff\"\n",
    "\n",
    "#data_file_dir = \"/media/ivan/Ivan/jad_spectral/src_Specim-FX17e-076900055547_00.tiff\"\n",
    "spectral_data = []\n",
    "\n",
    "_, spectral_data = cv2.imreadmulti(\n",
    "    filename=data_file_dir,\n",
    "    mats=spectral_data,\n",
    "    flags=cv2.IMREAD_UNCHANGED\n",
    ")\n",
    "\n",
    "spectral_data = np.asarray(spectral_data)\n",
    "spectral_data = np.transpose(spectral_data, (0, 2, 1))"
   ]
  },
  {
   "cell_type": "code",
   "execution_count": 3,
   "metadata": {},
   "outputs": [],
   "source": [
    "\n",
    "# region_of_interest = spectral_data[980:1000, 370:415, :]\n",
    "# print(region_of_interest)\n",
    "# empty = spectral_data[980:1000, 390:395, 57:61]\n",
    "# print(empty)"
   ]
  },
  {
   "cell_type": "code",
   "execution_count": 4,
   "metadata": {},
   "outputs": [],
   "source": [
    "# red = spectral_data[980:1000, 409:415, 57:61]\n",
    "# print(red)"
   ]
  },
  {
   "cell_type": "code",
   "execution_count": 5,
   "metadata": {},
   "outputs": [],
   "source": [
    "label_correspondences = {\n",
    "    \"meat\": 0,\n",
    "    \"fat\": 1,\n",
    "    \"conveyor\": 2,\n",
    "    \"plastic\": 3\n",
    "}\n",
    "\n",
    "# Add label correspondences, change integer values to change heat map\n",
    "color_correspondences = {\n",
    "    label_correspondences[\"meat\"]: \"g\",\n",
    "    label_correspondences[\"fat\"]: \"w\",\n",
    "    label_correspondences[\"conveyor\"]: \"b\",\n",
    "    label_correspondences[\"plastic\"]: \"r\",\n",
    "}"
   ]
  },
  {
   "cell_type": "code",
   "execution_count": 6,
   "metadata": {},
   "outputs": [],
   "source": [
    "# Initialize segmented image\n",
    "segmented_image = np.zeros(spectral_data.shape[:2], dtype=np.uint8)\n",
    "\n",
    "# Conveyor classification\n",
    "conveyor_pixels = np.where((spectral_data[:, :, 30] - spectral_data[:, :, 25]) > 0.0)\n",
    "segmented_image[conveyor_pixels[0], conveyor_pixels[1]] = 2"
   ]
  },
  {
   "cell_type": "code",
   "execution_count": 7,
   "metadata": {},
   "outputs": [],
   "source": [
    "# Fat classification\n",
    "# fat_condition = ((spectral_data[:, :, 80] - spectral_data[:, :, 61])/(80 - 61) - (spectral_data[:, :, 61] - spectral_data[:, :, 53])/(61 - 53))\n",
    "# fat_pixels = np.where(\n",
    "#     np.logical_and(\n",
    "#         np.logical_or(fat_condition < -0.005, fat_condition > 0.005),\n",
    "#         (spectral_data[:, :, 30] - spectral_data[:, :, 25]) < 0.0\n",
    "#     )\n",
    "# )\n",
    "\n",
    "# Fat classification\n",
    "fat_condition = ((spectral_data[:, :, 80] - spectral_data[:, :, 61])/(80 - 61) - (spectral_data[:, :, 61] - spectral_data[:, :, 53])/(61 - 53))\n",
    "extra_condition = ((spectral_data[:, :, 154] - spectral_data[:, :, 112])/(154 - 112))\n",
    "fat_pixels = np.where(\n",
    "    np.logical_and(\n",
    "        np.logical_and(\n",
    "            fat_condition > -0.0025,\n",
    "            (spectral_data[:, :, 30] - spectral_data[:, :, 25]) < 0.0\n",
    "        ),\n",
    "        (spectral_data[:, :, 61] - spectral_data[:, :, 57]) > 0.0015\n",
    "    )\n",
    ")\n",
    "# fat_pixels = np.where(\n",
    "#     np.logical_and(\n",
    "#         np.logical_and(\n",
    "#             np.logical_and(\n",
    "#                 fat_condition > -0.0025,\n",
    "#                 (spectral_data[:, :, 30] - spectral_data[:, :, 25]) < 0.0\n",
    "#             ),\n",
    "#             (spectral_data[:, :, 61] - spectral_data[:, :, 57]) > 0.0015\n",
    "#         ),\n",
    "#         extra_condition > 0.00025\n",
    "#     )\n",
    "# )\n",
    "\n",
    "segmented_image[fat_pixels[0], fat_pixels[1]] = 1"
   ]
  },
  {
   "cell_type": "code",
   "execution_count": 8,
   "metadata": {},
   "outputs": [],
   "source": [
    "# # Plastic classification\n",
    "# second_condition = (spectral_data[:, :, 61] + spectral_data[:, :, 57]) > 0.05\n",
    "# first_condition = (spectral_data[:, :, 61] - spectral_data[:, :, 57]) < 0.00045 # 0.00045\n",
    "\n",
    "# #slope1 = (spectral_data[:, :, 61]-spectral_data[:, :, 57])/4 \n",
    "# #slope2 = (spectral_data[:, :, 80]-spectral_data[:, :, 61])/19\n",
    "# #third_condition = (np.abs(slope2) - np.abs(slope1)) > 1\n",
    "\n",
    "# plastic_pixels = np.where(np.logical_and(first_condition, second_condition))\n",
    "# segmented_image[plastic_pixels[0], plastic_pixels[1]] = 3\n",
    "\n",
    "# Plastic classification\n",
    "light_check = (spectral_data[:, :, 61] + spectral_data[:, :, 57]) > 0.05\n",
    "red_check = (spectral_data[:, :, 61] - spectral_data[:, :, 57]) < 0.00045\n",
    "crease_check = (spectral_data[:, :, 153] - spectral_data[:, :, 150]) < 0.0\n",
    "extra_check = (spectral_data[:, :, 60] - spectral_data[:, :, 53]) > 0.001\n",
    "extra_check = False\n",
    "plastic_pixels = np.where(\n",
    "    np.logical_and(\n",
    "        np.logical_and(red_check, light_check),\n",
    "        np.logical_or(crease_check, extra_check)\n",
    "    )    \n",
    ")\n",
    "segmented_image[plastic_pixels[0], plastic_pixels[1]] = 3"
   ]
  },
  {
   "cell_type": "code",
   "execution_count": 9,
   "metadata": {},
   "outputs": [
    {
     "name": "stdout",
     "output_type": "stream",
     "text": [
      "False\n"
     ]
    }
   ],
   "source": [
    "print(3 in segmented_image)"
   ]
  },
  {
   "cell_type": "code",
   "execution_count": 10,
   "metadata": {},
   "outputs": [
    {
     "name": "stdout",
     "output_type": "stream",
     "text": [
      "['g', 'w', 'b', 'r']\n"
     ]
    }
   ],
   "source": [
    "# Visualization\n",
    "color_map = colors.ListedColormap([\n",
    "    color_correspondences[0],\n",
    "    color_correspondences[1],\n",
    "    color_correspondences[2],\n",
    "    color_correspondences[3]\n",
    "])\n",
    "print([\n",
    "    color_correspondences[0],\n",
    "    color_correspondences[1],\n",
    "    color_correspondences[2],\n",
    "    color_correspondences[3]\n",
    "])\n",
    "\n",
    "plt.imshow(segmented_image, interpolation=\"nearest\", cmap=color_map, vmin=0, vmax=4)\n",
    "plt.show()"
   ]
  }
 ],
 "metadata": {
  "kernelspec": {
   "display_name": "spectral-pork",
   "language": "python",
   "name": "python3"
  },
  "language_info": {
   "codemirror_mode": {
    "name": "ipython",
    "version": 3
   },
   "file_extension": ".py",
   "mimetype": "text/x-python",
   "name": "python",
   "nbconvert_exporter": "python",
   "pygments_lexer": "ipython3",
   "version": "3.10.12"
  }
 },
 "nbformat": 4,
 "nbformat_minor": 2
}
