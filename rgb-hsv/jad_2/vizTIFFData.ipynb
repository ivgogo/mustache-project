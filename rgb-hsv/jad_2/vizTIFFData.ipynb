{
 "cells": [
  {
   "cell_type": "code",
   "execution_count": 24,
   "metadata": {},
   "outputs": [],
   "source": [
    "%matplotlib qt\n",
    "\n",
    "import numpy as np\n",
    "import hyperspy.api as hs\n",
    "import matplotlib.pyplot as plt\n",
    "import cv2"
   ]
  },
  {
   "cell_type": "code",
   "execution_count": 25,
   "metadata": {},
   "outputs": [
    {
     "name": "stdout",
     "output_type": "stream",
     "text": [
      "(1000, 640, 184)\n",
      "<Signal1D, title: , dimensions: (640, 1000|184)>\n"
     ]
    }
   ],
   "source": [
    "# Add '.tiff' file directory here\n",
    "# data_file_dir = \"/media/ivan/Ivan/jad_spectral_2/src_Specim-FX17e-076900055547_02.tiff\"\n",
    "\n",
    "# \n",
    "data_file_dir = \"/media/ivan/Ivan/jad_spectral_3/src_Specim-FX17e-076900055547_43.tiff\"\n",
    "#data_file_dir = \"/media/ivan/Ivan/jad_spectral/src_Specim-FX17e-076900055547_00.tiff\"\n",
    "example_image = []\n",
    "\n",
    "_, example_image = cv2.imreadmulti(\n",
    "    filename=data_file_dir,\n",
    "    mats=example_image,\n",
    "    flags=cv2.IMREAD_UNCHANGED\n",
    ")\n",
    "\n",
    "example_image = np.asarray(example_image)\n",
    "example_image = np.transpose(example_image, (0, 2, 1))\n",
    "print(example_image.shape)\n",
    "\n",
    "hyper_data = hs.signals.Signal1D(example_image)\n",
    "print(hyper_data)\n",
    "hyper_data.plot()"
   ]
  }
 ],
 "metadata": {
  "kernelspec": {
   "display_name": "spectral-pork",
   "language": "python",
   "name": "python3"
  },
  "language_info": {
   "codemirror_mode": {
    "name": "ipython",
    "version": 3
   },
   "file_extension": ".py",
   "mimetype": "text/x-python",
   "name": "python",
   "nbconvert_exporter": "python",
   "pygments_lexer": "ipython3",
   "version": "3.10.12"
  }
 },
 "nbformat": 4,
 "nbformat_minor": 2
}
