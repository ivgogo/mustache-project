{
 "cells": [
  {
   "cell_type": "code",
   "execution_count": 1,
   "metadata": {},
   "outputs": [],
   "source": [
    "%matplotlib qt\n",
    "\n",
    "import numpy as np\n",
    "import hyperspy.api as hs\n",
    "import matplotlib.pyplot as plt\n",
    "import cv2"
   ]
  },
  {
   "cell_type": "code",
   "execution_count": 2,
   "metadata": {},
   "outputs": [
    {
     "name": "stdout",
     "output_type": "stream",
     "text": [
      "(1000, 640, 184)\n"
     ]
    },
    {
     "ename": "KeyboardInterrupt",
     "evalue": "",
     "output_type": "error",
     "traceback": [
      "\u001b[0;31m---------------------------------------------------------------------------\u001b[0m",
      "\u001b[0;31mKeyboardInterrupt\u001b[0m                         Traceback (most recent call last)",
      "Cell \u001b[0;32mIn[2], line 72\u001b[0m\n\u001b[1;32m     69\u001b[0m \u001b[38;5;28;01mfor\u001b[39;00m y \u001b[38;5;129;01min\u001b[39;00m \u001b[38;5;28mrange\u001b[39m(example_image\u001b[38;5;241m.\u001b[39mshape[\u001b[38;5;241m1\u001b[39m]):\n\u001b[1;32m     70\u001b[0m     \u001b[38;5;66;03m# mean_value = np.mean(example_image[x, y, :])\u001b[39;00m\n\u001b[1;32m     71\u001b[0m     peaks \u001b[38;5;241m=\u001b[39m [point25, point44, point80, point154]\n\u001b[0;32m---> 72\u001b[0m     peaks_sum \u001b[38;5;241m=\u001b[39m \u001b[43mnp\u001b[49m\u001b[38;5;241;43m.\u001b[39;49m\u001b[43mmean\u001b[49m\u001b[43m(\u001b[49m\u001b[43mpeaks\u001b[49m\u001b[43m)\u001b[49m\n\u001b[1;32m     74\u001b[0m     \u001b[38;5;28;01mif\u001b[39;00m peaks_sum\u001b[38;5;241m.\u001b[39mall() \u001b[38;5;241m>\u001b[39m threshold:\n\u001b[1;32m     75\u001b[0m         new_plot[x, y] \u001b[38;5;241m=\u001b[39m \u001b[38;5;241m0\u001b[39m\n",
      "File \u001b[0;32m~/.local/lib/python3.10/site-packages/numpy/core/fromnumeric.py:3504\u001b[0m, in \u001b[0;36mmean\u001b[0;34m(a, axis, dtype, out, keepdims, where)\u001b[0m\n\u001b[1;32m   3501\u001b[0m     \u001b[38;5;28;01melse\u001b[39;00m:\n\u001b[1;32m   3502\u001b[0m         \u001b[38;5;28;01mreturn\u001b[39;00m mean(axis\u001b[38;5;241m=\u001b[39maxis, dtype\u001b[38;5;241m=\u001b[39mdtype, out\u001b[38;5;241m=\u001b[39mout, \u001b[38;5;241m*\u001b[39m\u001b[38;5;241m*\u001b[39mkwargs)\n\u001b[0;32m-> 3504\u001b[0m \u001b[38;5;28;01mreturn\u001b[39;00m \u001b[43m_methods\u001b[49m\u001b[38;5;241;43m.\u001b[39;49m\u001b[43m_mean\u001b[49m\u001b[43m(\u001b[49m\u001b[43ma\u001b[49m\u001b[43m,\u001b[49m\u001b[43m \u001b[49m\u001b[43maxis\u001b[49m\u001b[38;5;241;43m=\u001b[39;49m\u001b[43maxis\u001b[49m\u001b[43m,\u001b[49m\u001b[43m \u001b[49m\u001b[43mdtype\u001b[49m\u001b[38;5;241;43m=\u001b[39;49m\u001b[43mdtype\u001b[49m\u001b[43m,\u001b[49m\n\u001b[1;32m   3505\u001b[0m \u001b[43m                      \u001b[49m\u001b[43mout\u001b[49m\u001b[38;5;241;43m=\u001b[39;49m\u001b[43mout\u001b[49m\u001b[43m,\u001b[49m\u001b[43m \u001b[49m\u001b[38;5;241;43m*\u001b[39;49m\u001b[38;5;241;43m*\u001b[39;49m\u001b[43mkwargs\u001b[49m\u001b[43m)\u001b[49m\n",
      "File \u001b[0;32m~/.local/lib/python3.10/site-packages/numpy/core/_methods.py:118\u001b[0m, in \u001b[0;36m_mean\u001b[0;34m(a, axis, dtype, out, keepdims, where)\u001b[0m\n\u001b[1;32m    115\u001b[0m         dtype \u001b[38;5;241m=\u001b[39m mu\u001b[38;5;241m.\u001b[39mdtype(\u001b[38;5;124m'\u001b[39m\u001b[38;5;124mf4\u001b[39m\u001b[38;5;124m'\u001b[39m)\n\u001b[1;32m    116\u001b[0m         is_float16_result \u001b[38;5;241m=\u001b[39m \u001b[38;5;28;01mTrue\u001b[39;00m\n\u001b[0;32m--> 118\u001b[0m ret \u001b[38;5;241m=\u001b[39m \u001b[43mumr_sum\u001b[49m\u001b[43m(\u001b[49m\u001b[43marr\u001b[49m\u001b[43m,\u001b[49m\u001b[43m \u001b[49m\u001b[43maxis\u001b[49m\u001b[43m,\u001b[49m\u001b[43m \u001b[49m\u001b[43mdtype\u001b[49m\u001b[43m,\u001b[49m\u001b[43m \u001b[49m\u001b[43mout\u001b[49m\u001b[43m,\u001b[49m\u001b[43m \u001b[49m\u001b[43mkeepdims\u001b[49m\u001b[43m,\u001b[49m\u001b[43m \u001b[49m\u001b[43mwhere\u001b[49m\u001b[38;5;241;43m=\u001b[39;49m\u001b[43mwhere\u001b[49m\u001b[43m)\u001b[49m\n\u001b[1;32m    119\u001b[0m \u001b[38;5;28;01mif\u001b[39;00m \u001b[38;5;28misinstance\u001b[39m(ret, mu\u001b[38;5;241m.\u001b[39mndarray):\n\u001b[1;32m    120\u001b[0m     \u001b[38;5;28;01mwith\u001b[39;00m _no_nep50_warning():\n",
      "\u001b[0;31mKeyboardInterrupt\u001b[0m: "
     ]
    }
   ],
   "source": [
    "# Tiff files\n",
    "\n",
    "# images_1\n",
    "# data_file_dir = \"/media/ivan/Ivan/jad/images_1/plastic/src_Specim-FX17e-076900055547_00.tiff\"\n",
    "# data_file_dir = \"/media/ivan/Ivan/jad/images_1/plastic/src_Specim-FX17e-076900055547_01.tiff\"\n",
    "# data_file_dir = \"/media/ivan/Ivan/jad/images_1/plastic/src_Specim-FX17e-076900055547_02.tiff\"\n",
    "# data_file_dir = \"/media/ivan/Ivan/jad/images_1/plastic/src_Specim-FX17e-076900055547_03.tiff\"\n",
    "\n",
    "# images_2\n",
    "# data_file_dir = \"/media/ivan/Ivan/jad/images_2/normal/src_Specim-FX17e-076900055547_00.tiff\"\n",
    "# data_file_dir = \"/media/ivan/Ivan/jad/images_2/src_Specim-FX17e-076900055547_01.tiff\"               # bad image\n",
    "# data_file_dir = \"/media/ivan/Ivan/jad/images_2/normal/src_Specim-FX17e-076900055547_02.tiff\"\n",
    "\n",
    "# images_3\n",
    "# data_file_dir = \"/media/ivan/Ivan/jad/images_3/normal/src_Specim-FX17e-076900055547_03.tiff\"\n",
    "# data_file_dir = \"/media/ivan/Ivan/jad/images_3/normal/src_Specim-FX17e-076900055547_11.tiff\"\n",
    "# data_file_dir = \"/media/ivan/Ivan/jad/images_3/normal/src_Specim-FX17e-076900055547_21.tiff\"\n",
    "# data_file_dir = \"/media/ivan/Ivan/jad/images_3/normal/src_Specim-FX17e-076900055547_27.tiff\"\n",
    "# data_file_dir = \"/media/ivan/Ivan/jad/images_3/normal/src_Specim-FX17e-076900055547_32.tiff\"\n",
    "# data_file_dir = \"/media/ivan/Ivan/jad/images_3/normal/src_Specim-FX17e-076900055547_37.tiff\"\n",
    "data_file_dir = \"/media/ivan/Ivan/jad/images_3/normal/src_Specim-FX17e-076900055547_43.tiff\"\n",
    "# data_file_dir = \"/media/ivan/Ivan/jad/images_3/normal/src_Specim-FX17e-076900055547_51.tiff\"\n",
    "# data_file_dir = \"/media/ivan/Ivan/jad/images_3/normal/src_Specim-FX17e-076900055547_54.tiff\"\n",
    "# data_file_dir = \"/media/ivan/Ivan/jad/images_3/normal/src_Specim-FX17e-076900055547_69.tiff\"\n",
    "# data_file_dir = \"/media/ivan/Ivan/jad/images_3/normal/src_Specim-FX17e-076900055547_71.tiff\"\n",
    "\n",
    "# images_4\n",
    "# data_file_dir = \"/media/ivan/Ivan/jad/images_4/plastic/src_Specim-FX17e-076900055547_00.tiff\"\n",
    "# data_file_dir = \"/media/ivan/Ivan/jad/images_4/plastic/src_Specim-FX17e-076900055547_01.tiff\"       # Plastic yes\n",
    "# data_file_dir = \"/media/ivan/Ivan/jad/images_4/plastic/src_Specim-FX17e-076900055547_02.tiff\"\n",
    "# data_file_dir = \"/media/ivan/Ivan/jad/images_4/plastic/src_Specim-FX17e-076900055547_03.tiff\"\n",
    "# data_file_dir = \"/media/ivan/Ivan/jad/images_4/plastic/src_Specim-FX17e-076900055547_04.tiff\"       # plastic YES\n",
    "# data_file_dir = \"/media/ivan/Ivan/jad/images_4/plastic/src_Specim-FX17e-076900055547_05.tiff\"\n",
    "\n",
    "example_image = []\n",
    "\n",
    "_, example_image = cv2.imreadmulti(\n",
    "    filename=data_file_dir,\n",
    "    mats=example_image,\n",
    "    flags=cv2.IMREAD_UNCHANGED\n",
    ")\n",
    "\n",
    "example_image = np.asarray(example_image)\n",
    "example_image = np.transpose(example_image, (0, 2, 1))\n",
    "print(example_image.shape)\n",
    "\n",
    "# ========================================= points of interest =========================================\n",
    "\n",
    "point0 = example_image[:, :, 0]\n",
    "point25 = example_image[:, :, 25]\n",
    "point39 = example_image[:, :, 39]\n",
    "point44 = example_image[:, :, 44]\n",
    "point53 = example_image[:, :, 53]\n",
    "point57 = example_image[:, :, 57]\n",
    "point61 = example_image[:, :, 61]\n",
    "point80 = example_image[:, :, 80]\n",
    "point112 = example_image[:, :, 112]\n",
    "point146 = example_image[:, :, 146]\n",
    "point154 = example_image[:, :, 154]\n",
    "point159 = example_image[:, :, 159]\n",
    "\n",
    "# ========================================= kill pixels =========================================\n",
    "\n",
    "threshold = 0.32\n",
    "\n",
    "new_plot = np.ones_like(example_image[:, :, 0])\n",
    "\n",
    "for x in range(example_image.shape[0]):\n",
    "    for y in range(example_image.shape[1]):\n",
    "        # mean_value = np.mean(example_image[x, y, :])\n",
    "        peaks = [point25, point44, point80, point154]\n",
    "        peaks_sum = np.mean(peaks)\n",
    "\n",
    "        if peaks_sum.all() > threshold:\n",
    "            new_plot[x, y] = 0\n",
    "    \n",
    "plt.imshow(new_plot, cmap='gray')\n",
    "plt.show()\n",
    "\n",
    "hyper_data = hs.signals.Signal1D(example_image)\n",
    "print(hyper_data)\n",
    "hyper_data.plot()"
   ]
  }
 ],
 "metadata": {
  "kernelspec": {
   "display_name": "Python 3",
   "language": "python",
   "name": "python3"
  },
  "language_info": {
   "codemirror_mode": {
    "name": "ipython",
    "version": 3
   },
   "file_extension": ".py",
   "mimetype": "text/x-python",
   "name": "python",
   "nbconvert_exporter": "python",
   "pygments_lexer": "ipython3",
   "version": "3.10.12"
  }
 },
 "nbformat": 4,
 "nbformat_minor": 2
}
